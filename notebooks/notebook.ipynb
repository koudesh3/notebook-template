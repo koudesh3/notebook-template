{
 "cells": [
  {
   "cell_type": "code",
   "execution_count": null,
   "id": "ee8f9786",
   "metadata": {},
   "outputs": [],
   "source": [
    "print(\"Hello World\")"
   ]
  }
 ],
 "metadata": {
  "kernelspec": {
   "display_name": "Python 3 (ipykernel)",
   "language": "python",
   "name": "python3"
  }
 },
 "nbformat": 4,
 "nbformat_minor": 5
}
